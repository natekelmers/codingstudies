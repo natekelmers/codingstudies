{
 "cells": [
  {
   "cell_type": "code",
   "execution_count": 6,
   "metadata": {},
   "outputs": [],
   "source": [
    "import pandas as pd\n",
    "import glob, os\n",
    " \n",
    "os.chdir(\"C:\\Users\\Nathan.y.kelmers\\Desktop\\GA\\FINAL PROJECT\\data\")\n",
    "results = pd.DataFrame([])\n",
    " \n",
    "for counter, file in enumerate(glob.glob(\"mbti_*\")):\n",
    "    namedf = pd.read_csv(file, skiprows = 0)\n",
    "    results = results.append(namedf)\n",
    " \n",
    "results.to_csv('C:\\Users\\Nathan.y.kelmers\\Desktop\\GA\\FINAL PROJECT\\data\\mbti_combined.csv')"
   ]
  },
  {
   "cell_type": "code",
   "execution_count": null,
   "metadata": {
    "collapsed": true
   },
   "outputs": [],
   "source": []
  }
 ],
 "metadata": {
  "kernelspec": {
   "display_name": "Python 2",
   "language": "python",
   "name": "python2"
  },
  "language_info": {
   "codemirror_mode": {
    "name": "ipython",
    "version": 2
   },
   "file_extension": ".py",
   "mimetype": "text/x-python",
   "name": "python",
   "nbconvert_exporter": "python",
   "pygments_lexer": "ipython2",
   "version": "2.7.14"
  }
 },
 "nbformat": 4,
 "nbformat_minor": 2
}
