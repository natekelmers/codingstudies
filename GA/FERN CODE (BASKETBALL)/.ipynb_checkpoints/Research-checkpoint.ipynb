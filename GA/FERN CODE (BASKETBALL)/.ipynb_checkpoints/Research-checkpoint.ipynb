{
 "cells": [
  {
   "cell_type": "code",
   "execution_count": null,
   "metadata": {
    "collapsed": true
   },
   "outputs": [],
   "source": [
    "# https://www.reddit.com/r/sportsbook/comments/67hj5n/math_and_nba_betting_what_ive_been_doing_for_two/\n",
    "\n",
    "# https://www.reddit.com/r/sportsbook/comments/7nqr1i/using_r_web_scraping_to_get_your_nba_system_going/\n",
    "# https://www.reddit.com/r/sportsbook/comments/7oun49/heres_a_tool_to_scrape_your_own_odds_mlb_nba_nfl/\n",
    "\n",
    "# https://www.reddit.com/r/sportsbook/comments/75lhnt/nba_live_betting_unders_after_high_scoring_first/\n",
    "\n",
    "# https://www.reddit.com/r/nba/comments/7j2s76/what_are_secrets_you_use_in_nba_betting/\n",
    "# https://www.reddit.com/r/nba/comments/7b566m/which_team_was_most_profitable_to_bet_on_last/\n",
    "\n",
    "# https://www.reddit.com/r/sportsbook/comments/66sude/betting_through_a_mathematical_model_mlb_not_the/\n",
    "\n",
    "# https://www.reddit.com/r/sportsbook/wiki/index\n",
    "# https://docs.google.com/document/d/1mN4zhW5-i2GAzL56dSfrTR8bSRFEDIXfZZdyJpeQ0lc/edit\n",
    "# http://www-stat.wharton.upenn.edu/~dsmall/nba_rest_submitted.pdf\n",
    "# http://www.nbaminer.com/four-factors/\n",
    "\n",
    "# Hey Fern, Hope all is going well. My schedule's beginning to free up, so I wanted to follow-up on the conversation\n",
    "# we had at the Post Pub about your project for the class and adapting it to broader situations (i.e. the NBA).\n",
    "# Was wondering if you had time in your schedule to discuss further in the near future, and if so, what's the best\n",
    "# way to get in touch with you? Email or phone works for me, I can be reached at 703-731-7805 or at\n",
    "# natekelmers@gmail.com."
   ]
  }
 ],
 "metadata": {
  "kernelspec": {
   "display_name": "Python 2",
   "language": "python",
   "name": "python2"
  },
  "language_info": {
   "codemirror_mode": {
    "name": "ipython",
    "version": 2
   },
   "file_extension": ".py",
   "mimetype": "text/x-python",
   "name": "python",
   "nbconvert_exporter": "python",
   "pygments_lexer": "ipython2",
   "version": "2.7.14"
  }
 },
 "nbformat": 4,
 "nbformat_minor": 2
}
