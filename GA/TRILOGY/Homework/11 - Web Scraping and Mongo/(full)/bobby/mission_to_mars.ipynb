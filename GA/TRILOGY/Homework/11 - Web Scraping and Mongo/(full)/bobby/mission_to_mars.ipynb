{
 "cells": [
  {
   "cell_type": "markdown",
   "metadata": {},
   "source": [
    "# **Step 1 - Scraping**\n",
    "---"
   ]
  },
  {
   "cell_type": "markdown",
   "metadata": {},
   "source": [
    "## ** Importing modules/dependencies**"
   ]
  },
  {
   "cell_type": "code",
   "execution_count": 1,
   "metadata": {},
   "outputs": [],
   "source": [
    "# data manipulation\n",
    "import pandas as pd\n",
    "import subprocess\n",
    "import os\n",
    "\n",
    "# web scraping\n",
    "import time\n",
    "from bs4 import BeautifulSoup as bs\n",
    "from splinter import Browser\n",
    "import requests\n",
    "import pymongo"
   ]
  },
  {
   "cell_type": "markdown",
   "metadata": {},
   "source": [
    "#### Initialize Browser Instance"
   ]
  },
  {
   "cell_type": "code",
   "execution_count": 2,
   "metadata": {},
   "outputs": [],
   "source": [
    "executable_path = {\"executable_path\": \"chromedriver.exe\"}\n",
    "session = requests.Session()\n",
    "browser = Browser(\"chrome\", **executable_path)"
   ]
  },
  {
   "cell_type": "markdown",
   "metadata": {},
   "source": [
    "## **Grabbing the Latest News Article from Nasa**"
   ]
  },
  {
   "cell_type": "code",
   "execution_count": 3,
   "metadata": {},
   "outputs": [],
   "source": [
    "#intial scraping of site\n",
    "url = \"https://mars.nasa.gov/news\"\n",
    "browser.visit(url)\n",
    "time.sleep(5)\n",
    "news_brows = browser.html\n",
    "news_soup = bs(news_brows,\"lxml\")\n",
    "latest_news = news_soup.find(\"li\", class_=\"slide\")\n",
    "news_t_lvl = latest_news.find(\"div\",class_=\"content_title\")\n",
    "news_title = news_t_lvl.a.text\n",
    "news_date = latest_news.find(\"div\",class_=\"list_date\").text\n",
    "news_p = str(latest_news.find(\"div\",class_=\"article_teaser_body\").text)"
   ]
  },
  {
   "cell_type": "markdown",
   "metadata": {},
   "source": [
    "## **Grabbing the featured image data from **[https://www.jpl.nasa.gov/spaceimages/?search=&category=Mars](https://www.jpl.nasa.gov/spaceimages/?search=&category=Mars)"
   ]
  },
  {
   "cell_type": "code",
   "execution_count": 4,
   "metadata": {},
   "outputs": [],
   "source": [
    "space_image_url = \"https://www.jpl.nasa.gov/spaceimages/?search=&category=Mars\"\n",
    "browser.visit(space_image_url)\n",
    "time.sleep(2)\n",
    "browser.click_link_by_id(\"full_image\")\n",
    "time.sleep(2)\n",
    "browser.click_link_by_text(\"more info     \")\n",
    "time.sleep(2)\n",
    "featured_brows = browser.html\n",
    "images_soup = bs(featured_brows,\"html.parser\")\n",
    "browser.click_link_by_href(images_soup.figure.a[\"href\"])\n",
    "\n",
    "featured_image_url = browser.url\n",
    "time.sleep(2)"
   ]
  },
  {
   "cell_type": "markdown",
   "metadata": {},
   "source": [
    "## **Getting Latest Mars Weather Data from Twitter**"
   ]
  },
  {
   "cell_type": "code",
   "execution_count": 5,
   "metadata": {},
   "outputs": [],
   "source": [
    "mars_weather_url = \"https://twitter.com/marswxreport?lang=en\"\n",
    "response = session.get(mars_weather_url).text\n",
    "weather_soup = bs(response, \"lxml\")\n",
    "mars_weather = weather_soup.find(\"div\",class_=\"js-tweet-text-container\").text"
   ]
  },
  {
   "cell_type": "markdown",
   "metadata": {},
   "source": [
    "## **Getting Mars Facts Information for DataFrame and HTML Table**"
   ]
  },
  {
   "cell_type": "code",
   "execution_count": 6,
   "metadata": {},
   "outputs": [],
   "source": [
    "mars_facts_url =\"https://space-facts.com/mars/\"\n",
    "mars_facts_tables = pd.read_html(mars_facts_url)\n",
    "mars_facts_df = mars_facts_tables[0]\n",
    "mars_facts_df.columns = [\"Element\", \"\"]\n",
    "html_df = mars_facts_df.set_index(\"Element\")\n",
    "mars_fact_html = html_df.to_html()"
   ]
  },
  {
   "cell_type": "markdown",
   "metadata": {},
   "source": [
    "##### ***For additional facts, not using it for this exercise***"
   ]
  },
  {
   "cell_type": "raw",
   "metadata": {},
   "source": [
    "# More Facts not needed\n",
    "response = requests.get(mars_facts_url).text\n",
    "facts_soup = bs(response,\"lxml\")\n",
    "about_mars = facts_soup.find_all(\"div\", {\"id\":\"facts\"})\n",
    "more_facts =[]\n",
    "additional_facts = about_mars[0].find_all(\"li\")\n",
    "\n",
    "for item in additional_facts:\n",
    "    more_facts.append(item.text)"
   ]
  },
  {
   "cell_type": "markdown",
   "metadata": {},
   "source": [
    "## **Mars Hemisphere Data**"
   ]
  },
  {
   "cell_type": "code",
   "execution_count": 7,
   "metadata": {},
   "outputs": [],
   "source": [
    "hemisphere_url = \"https://astrogeology.usgs.gov/search/results?q=hemisphere+enhanced&k1=target&v1=Mars\"\n",
    "hemisphere_url_prefix =\"https://astrogeology.usgs.gov\"\n",
    "\n",
    "hemisphere_links = []\n",
    "hemisphere_image_url = []\n",
    "hemisphere_titles = []\n",
    "\n",
    "response = session.get(hemisphere_url).text\n",
    "hemisphere_soup = bs(response,\"lxml\")\n",
    "hemisphere_div = hemisphere_soup.find_all(\"div\", class_=\"item\")\n",
    "\n",
    "for item in hemisphere_div:\n",
    "    hemisphere_links.append(hemisphere_url_prefix+str(item.find(\"a\")[\"href\"]))\n",
    "    hemisphere_titles.append((item.h3.text).replace(\" Enhanced\",\"\"))\n",
    "    \n",
    "\n",
    "for x in range(len(hemisphere_links)):\n",
    "    browser.visit(hemisphere_links[x])\n",
    "    response = requests.get(hemisphere_links[x]).text\n",
    "    hemi_soup = bs(response,\"lxml\")\n",
    "    search = hemi_soup.find(\"a\",text=\"Sample\")\n",
    "    hemisphere_image_url.append(search[\"href\"])\n",
    "    time.sleep(2)\n",
    "\n",
    "hemisphere_dict = dict(zip(hemisphere_titles,hemisphere_image_url))"
   ]
  },
  {
   "cell_type": "markdown",
   "metadata": {},
   "source": [
    "## **Closing Browser Session**|"
   ]
  },
  {
   "cell_type": "code",
   "execution_count": 8,
   "metadata": {},
   "outputs": [
    {
     "name": "stdout",
     "output_type": "stream",
     "text": [
      "All driver browsers have been closed successfully\n"
     ]
    }
   ],
   "source": [
    "browser.quit()\n",
    "try:\n",
    "    browser.windows()\n",
    "except:\n",
    "    print(\"All driver browsers have been closed successfully\")"
   ]
  },
  {
   "cell_type": "markdown",
   "metadata": {},
   "source": [
    "-----"
   ]
  },
  {
   "cell_type": "markdown",
   "metadata": {},
   "source": [
    "#  PyMongo Database Creation"
   ]
  },
  {
   "cell_type": "code",
   "execution_count": 9,
   "metadata": {},
   "outputs": [],
   "source": [
    "mars_data = { \n",
    "    \"latest_news\" : {\n",
    "        \"title\"     : news_title,\n",
    "        \"paragraph\" : news_p\n",
    "    },\n",
    "    \"featured_image\" : featured_image_url,\n",
    "    \"weather\"        : mars_weather,\n",
    "    \"facts\"          : mars_fact_html,\n",
    "    \"hemispheres\"    : hemisphere_dict\n",
    "}"
   ]
  },
  {
   "cell_type": "code",
   "execution_count": 10,
   "metadata": {},
   "outputs": [],
   "source": [
    "conn = \"mongodb://localhost:27017\"\n",
    "client = pymongo.MongoClient(conn)\n",
    "try:\n",
    "    db = client.mars\n",
    "except:\n",
    "    if \"mars\" in client.database_names():\n",
    "        client.drop_database(\"mars\")\n",
    "    else:\n",
    "        db = client.mars"
   ]
  },
  {
   "cell_type": "code",
   "execution_count": 11,
   "metadata": {},
   "outputs": [
    {
     "data": {
      "text/plain": [
       "<pymongo.results.InsertOneResult at 0x1ea3f2b1d08>"
      ]
     },
     "execution_count": 11,
     "metadata": {},
     "output_type": "execute_result"
    }
   ],
   "source": [
    "try:\n",
    "    db.create_collection(\"mars_data\")\n",
    "except:\n",
    "    db.drop_collection(\"mars_data\")\n",
    "    db.create_collection(\"mars_data\")\n",
    "collection = db.get_collection(\"mars_data\")\n",
    "collection.insert_one(mars_data)"
   ]
  },
  {
   "cell_type": "code",
   "execution_count": 28,
   "metadata": {},
   "outputs": [
    {
     "name": "stdout",
     "output_type": "stream",
     "text": [
      "supress\n"
     ]
    }
   ],
   "source": [
    "import json\n",
    "try:\n",
    "    with open(\"mars.json\",\"w\") as f:\n",
    "        json.dump(mars_data,f)\n",
    "except TypeError:\n",
    "    print(\"supress\")"
   ]
  },
  {
   "cell_type": "code",
   "execution_count": 47,
   "metadata": {},
   "outputs": [],
   "source": [
    "json_file = \"http://mars.json\"\n",
    "output = pd.DataFrame.from_dict(mars_data)"
   ]
  },
  {
   "cell_type": "code",
   "execution_count": 53,
   "metadata": {},
   "outputs": [
    {
     "ename": "NameError",
     "evalue": "name 'columns' is not defined",
     "output_type": "error",
     "traceback": [
      "\u001b[1;31m---------------------------------------------------------------------------\u001b[0m",
      "\u001b[1;31mNameError\u001b[0m                                 Traceback (most recent call last)",
      "\u001b[1;32m<ipython-input-53-ddc8b401015b>\u001b[0m in \u001b[0;36m<module>\u001b[1;34m()\u001b[0m\n\u001b[1;32m----> 1\u001b[1;33m \u001b[0moutput\u001b[0m\u001b[1;33m.\u001b[0m\u001b[0mto_json\u001b[0m\u001b[1;33m(\u001b[0m\u001b[0morient\u001b[0m\u001b[1;33m=\u001b[0m\u001b[0mcolumns\u001b[0m\u001b[1;33m)\u001b[0m\u001b[1;33m\u001b[0m\u001b[0m\n\u001b[0m",
      "\u001b[1;31mNameError\u001b[0m: name 'columns' is not defined"
     ]
    }
   ],
   "source": [
    "output.to_sparse()"
   ]
  },
  {
   "cell_type": "code",
   "execution_count": null,
   "metadata": {},
   "outputs": [],
   "source": []
  }
 ],
 "metadata": {
  "kernelspec": {
   "display_name": "Python [conda env:Anaconda3]",
   "language": "python",
   "name": "conda-env-Anaconda3-py"
  },
  "language_info": {
   "codemirror_mode": {
    "name": "ipython",
    "version": 3
   },
   "file_extension": ".py",
   "mimetype": "text/x-python",
   "name": "python",
   "nbconvert_exporter": "python",
   "pygments_lexer": "ipython3",
   "version": "3.6.5"
  }
 },
 "nbformat": 4,
 "nbformat_minor": 2
}
