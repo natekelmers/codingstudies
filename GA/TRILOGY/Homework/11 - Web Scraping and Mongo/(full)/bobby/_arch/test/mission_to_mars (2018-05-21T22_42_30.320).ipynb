{
 "cells": [
  {
   "cell_type": "code",
   "execution_count": 3,
   "metadata": {},
   "outputs": [],
   "source": [
    "# \n",
    "import pprint as pp\n",
    "import datetime as dt\n",
    "from splinter import Browser\n",
    "from bs4 import BeautifulSoup\n",
    "import pandas as pd\n",
    "import numpy as np\n",
    "from selenium import webdriver\n",
    "import requests\n",
    "import os"
   ]
  },
  {
   "cell_type": "markdown",
   "metadata": {},
   "source": [
    "def init_browser():\n",
    "    # @NOTE: Replace the path with your actual path to the chromedriver\n",
    "    executable_path = {\"executable_path\": \"chromedriver\"}\n",
    "    return Browser(\"chrome\", **executable_path, headless=False)"
   ]
  },
  {
   "cell_type": "markdown",
   "metadata": {},
   "source": [
    "def scrape():\n",
    "    browser = init_browser()\n",
    "    listings = {}\n",
    "\n",
    "    url = \"\"\n",
    "    browser.visit(url)\n",
    "    time.sleep(1)\n",
    "\n",
    "    html = browser.html\n",
    "    soup = BeautifulSoup(html, \"html.parser\")\n",
    "\n",
    "    listings[\"****************\"] = soup.find(\"****************\", class_=\"****************\").get_text()\n",
    "    listings[\"****************\"] = soup.find(\"****************\", class_=\"****************\").get_text()\n",
    "    listings[\"****************\"] = soup.find(\"****************\", class_=\"****************\").get_text()\n",
    "\n",
    "    return listings"
   ]
  },
  {
   "cell_type": "code",
   "execution_count": 4,
   "metadata": {},
   "outputs": [],
   "source": [
    "url = \"https://mars.nasa.gov/news/?page=\"\n",
    "executable_path = {'executable_path': 'chromedriver.exe'}\n",
    "browser = Browser('chrome', **executable_path, headless=False)"
   ]
  },
  {
   "cell_type": "code",
   "execution_count": 5,
   "metadata": {},
   "outputs": [],
   "source": [
    "session = requests.Session()\n",
    "session.headers.update({'User-Agent': 'Custom user agent'})\n",
    "response = requests.get(url)"
   ]
  },
  {
   "cell_type": "code",
   "execution_count": 6,
   "metadata": {},
   "outputs": [],
   "source": [
    "browser.visit(url)"
   ]
  },
  {
   "cell_type": "code",
   "execution_count": 7,
   "metadata": {},
   "outputs": [],
   "source": [
    "nasa_url_prfx = \"https://mars.nasa.gov/\"  ## when I noticed the link was a relative reference.\n",
    "navigation_url_h = \"https://mars.nasa.gov/news/?page=0&per_page=40&order=publish_date+desc%2Ccreated_at+desc&search=&year=\"\n",
    "navigation_url_t = \"%3Apublish_date&category=19%2C165%2C184%2C204&blank_scope=Latest\"\n",
    "article_title=[]\n",
    "article_url=[]\n",
    "article_teaser=[]"
   ]
  },
  {
   "cell_type": "code",
   "execution_count": 9,
   "metadata": {},
   "outputs": [
    {
     "name": "stdout",
     "output_type": "stream",
     "text": [
      "2018\n"
     ]
    }
   ],
   "source": [
    "year_start = 2000\n",
    "date_ = dt.datetime.now()\n",
    "max_year = date_.year\n",
    "print(max_year)"
   ]
  },
  {
   "cell_type": "code",
   "execution_count": null,
   "metadata": {},
   "outputs": [],
   "source": [
    "while year_start <= 2019:\n",
    "    nasa = browser.html\n",
    "    soup = BeautifulSoup(nasa, \"html.parser\")\n",
    "    title = soup.find_all(\"div\", {\"class\":\"content_title\"})\n",
    "    url = soup.find_all(\"a\", {\"href\":\"/news/\"})\n",
    "    tsr = soup.find_all(\"div\", {\"class\":\"article_teaser_body\"})\n",
    "    for a in title:\n",
    "        article_title.append(a)\n",
    "    for c in tsr:\n",
    "        article_teaser.append(c)\n",
    "    \n",
    "    browser.visit(navigation_url_h+str(year_start)+navigation_url_t)"
   ]
  },
  {
   "cell_type": "code",
   "execution_count": 17,
   "metadata": {},
   "outputs": [],
   "source": [
    "test = pd.DataFrame(np.column_stack([article_title]),columns=[\"data\"])"
   ]
  },
  {
   "cell_type": "code",
   "execution_count": 19,
   "metadata": {},
   "outputs": [],
   "source": [
    "test.to_csv(\"test.csv\")"
   ]
  },
  {
   "cell_type": "code",
   "execution_count": null,
   "metadata": {},
   "outputs": [],
   "source": []
  }
 ],
 "metadata": {
  "kernelspec": {
   "display_name": "Python [default]",
   "language": "python",
   "name": "python3"
  },
  "language_info": {
   "codemirror_mode": {
    "name": "ipython",
    "version": 3
   },
   "file_extension": ".py",
   "mimetype": "text/x-python",
   "name": "python",
   "nbconvert_exporter": "python",
   "pygments_lexer": "ipython3",
   "version": "3.6.5"
  }
 },
 "nbformat": 4,
 "nbformat_minor": 2
}
