{
 "cells": [
  {
   "cell_type": "markdown",
   "metadata": {},
   "source": [
    "# **Step 1 - Scraping**\n",
    "---"
   ]
  },
  {
   "cell_type": "code",
   "execution_count": 41,
   "metadata": {},
   "outputs": [
    {
     "name": "stdout",
     "output_type": "stream",
     "text": [
      "All driver browsers have been closed successfully\n"
     ]
    }
   ],
   "source": [
    "# data manipulation\n",
    "import pandas as pd\n",
    "import os\n",
    "\n",
    "# web scraping\n",
    "import time\n",
    "from bs4 import BeautifulSoup as bs\n",
    "from splinter import Browser\n",
    "import requests\n",
    "import pymongo\n",
    "\n",
    "executable_path = {\"executable_path\": \"chromedriver.exe\"}\n",
    "session = requests.Session()\n",
    "browser = Browser(\"chrome\", **executable_path)\n",
    "\n",
    "#intial scraping of site\n",
    "url = \"https://mars.nasa.gov/news\"\n",
    "browser.visit(url)\n",
    "time.sleep(5)\n",
    "news_brows = browser.html\n",
    "news_soup = bs(news_brows,\"lxml\")\n",
    "latest_news = news_soup.find(\"li\", class_=\"slide\")\n",
    "news_t_lvl = latest_news.find(\"div\",class_=\"content_title\")\n",
    "news_title = news_t_lvl.a.text\n",
    "news_date = latest_news.find(\"div\",class_=\"list_date\").text\n",
    "news_p = str(latest_news.find(\"div\",class_=\"article_teaser_body\").text)\n",
    "\n",
    "space_image_url = \"https://www.jpl.nasa.gov/spaceimages/?search=&category=Mars\"\n",
    "browser.visit(space_image_url)\n",
    "time.sleep(2)\n",
    "browser.click_link_by_id(\"full_image\")\n",
    "time.sleep(2)\n",
    "browser.click_link_by_text(\"more info     \")\n",
    "time.sleep(2)\n",
    "featured_brows = browser.html\n",
    "images_soup = bs(featured_brows,\"html.parser\")\n",
    "browser.click_link_by_href(images_soup.figure.a[\"href\"])\n",
    "\n",
    "featured_image_url = browser.url\n",
    "time.sleep(2)\n",
    "\n",
    "mars_weather_url = \"https://twitter.com/marswxreport?lang=en\"\n",
    "response = session.get(mars_weather_url).text\n",
    "weather_soup = bs(response, \"lxml\")\n",
    "mars_weather = weather_soup.find(\"div\",class_=\"js-tweet-text-container\").text\n",
    "\n",
    "mars_facts_url =\"https://space-facts.com/mars/\"\n",
    "mars_facts_tables = pd.read_html(mars_facts_url)\n",
    "mars_facts_df = mars_facts_tables[0]\n",
    "mars_facts_df.columns = [\"Element\", \"Data\"]\n",
    "html_df = mars_facts_df\n",
    "mars_fact_html = html_df.to_html(justify=\"left\", border=1).replace(\"\\n      <th></th>\\n      <th></th>\\n    </tr>\\n    <tr>\",\"\")\n",
    "\n",
    "hemisphere_url = \"https://astrogeology.usgs.gov/search/results?q=hemisphere+enhanced&k1=target&v1=Mars\"\n",
    "hemisphere_url = \"https://astrogeology.usgs.gov/search/results?q=hemisphere+enhanced&k1=target&v1=Mars\"\n",
    "hemisphere_url_prefix =\"https://astrogeology.usgs.gov\"\n",
    "\n",
    "hemisphere_links = []\n",
    "hemisphere_image_url = []\n",
    "hemisphere_titles = []\n",
    "\n",
    "response = session.get(hemisphere_url).text\n",
    "hemisphere_soup = bs(response,\"lxml\")\n",
    "hemisphere_div = hemisphere_soup.find_all(\"div\", class_=\"item\")\n",
    "\n",
    "for item in hemisphere_div:\n",
    "    hemisphere_links.append(hemisphere_url_prefix+str(item.find(\"a\")[\"href\"]))\n",
    "    hemisphere_titles.append((item.h3.text).replace(\" Enhanced\",\"\")) \n",
    "\n",
    "for x in range(len(hemisphere_links)):\n",
    "    browser.visit(hemisphere_links[x])\n",
    "    response = requests.get(hemisphere_links[x]).text\n",
    "    hemi_soup = bs(response,\"lxml\")\n",
    "    search = hemi_soup.find(\"a\",text=\"Original\")\n",
    "    hemisphere_image_url.append(search[\"href\"])\n",
    "    time.sleep(2)\n",
    "\n",
    "hemisphere_dict = dict(zip(hemisphere_titles,hemisphere_image_url))\n",
    "\n",
    "browser.quit()\n",
    "try:\n",
    "    browser.windows()\n",
    "except:\n",
    "    print(\"All driver browsers have been closed successfully\")"
   ]
  }
 ],
 "metadata": {
  "kernelspec": {
   "display_name": "Python [conda env:Anaconda3]",
   "language": "python",
   "name": "conda-env-Anaconda3-py"
  },
  "language_info": {
   "codemirror_mode": {
    "name": "ipython",
    "version": 3
   },
   "file_extension": ".py",
   "mimetype": "text/x-python",
   "name": "python",
   "nbconvert_exporter": "python",
   "pygments_lexer": "ipython3",
   "version": "3.6.5"
  }
 },
 "nbformat": 4,
 "nbformat_minor": 2
}
