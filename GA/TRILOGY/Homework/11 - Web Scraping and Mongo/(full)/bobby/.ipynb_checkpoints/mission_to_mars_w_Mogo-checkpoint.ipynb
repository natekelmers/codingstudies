{
 "cells": [
  {
   "cell_type": "markdown",
   "metadata": {},
   "source": [
    "# **Step 1 - Scraping**\n",
    "---"
   ]
  },
  {
   "cell_type": "markdown",
   "metadata": {},
   "source": [
    "## ** Importing modules/dependencies**"
   ]
  },
  {
   "cell_type": "code",
   "execution_count": 1,
   "metadata": {},
   "outputs": [],
   "source": [
    "# data manipulation\n",
    "import pandas as pd\n",
    "import os\n",
    "\n",
    "# web scraping\n",
    "import time\n",
    "from bs4 import BeautifulSoup as bs\n",
    "from splinter import Browser\n",
    "import requests\n",
    "import pymongo"
   ]
  },
  {
   "cell_type": "markdown",
   "metadata": {},
   "source": [
    "#### Initialize Browser Instance"
   ]
  },
  {
   "cell_type": "code",
   "execution_count": 2,
   "metadata": {},
   "outputs": [],
   "source": [
    "executable_path = {\"executable_path\": \"chromedriver.exe\"}\n",
    "session = requests.Session()\n",
    "browser = Browser(\"chrome\", **executable_path)"
   ]
  },
  {
   "cell_type": "markdown",
   "metadata": {},
   "source": [
    "## **Grabbing the Latest News Article from Nasa**"
   ]
  },
  {
   "cell_type": "code",
   "execution_count": 3,
   "metadata": {},
   "outputs": [],
   "source": [
    "#intial scraping of site\n",
    "url = \"https://mars.nasa.gov/news\"\n",
    "browser.visit(url)\n",
    "time.sleep(5)\n",
    "news_brows = browser.html\n",
    "news_soup = bs(news_brows,\"lxml\")\n",
    "latest_news = news_soup.find(\"li\", class_=\"slide\")\n",
    "news_t_lvl = latest_news.find(\"div\",class_=\"content_title\")\n",
    "news_title = news_t_lvl.a.text\n",
    "news_date = latest_news.find(\"div\",class_=\"list_date\").text\n",
    "news_p = str(latest_news.find(\"div\",class_=\"article_teaser_body\").text)"
   ]
  },
  {
   "cell_type": "markdown",
   "metadata": {},
   "source": [
    "## **Grabbing the featured image data from **[https://www.jpl.nasa.gov/spaceimages/?search=&category=Mars](https://www.jpl.nasa.gov/spaceimages/?search=&category=Mars)"
   ]
  },
  {
   "cell_type": "code",
   "execution_count": 4,
   "metadata": {},
   "outputs": [],
   "source": [
    "space_image_url = \"https://www.jpl.nasa.gov/spaceimages/?search=&category=Mars\"\n",
    "browser.visit(space_image_url)\n",
    "time.sleep(2)\n",
    "browser.click_link_by_id(\"full_image\")\n",
    "time.sleep(2)\n",
    "browser.click_link_by_text(\"more info     \")\n",
    "time.sleep(2)\n",
    "featured_brows = browser.html\n",
    "images_soup = bs(featured_brows,\"html.parser\")\n",
    "browser.click_link_by_href(images_soup.figure.a[\"href\"])\n",
    "\n",
    "featured_image_url = browser.url\n",
    "time.sleep(2)"
   ]
  },
  {
   "cell_type": "markdown",
   "metadata": {},
   "source": [
    "## **Getting Latest Mars Weather Data from Twitter**"
   ]
  },
  {
   "cell_type": "code",
   "execution_count": 5,
   "metadata": {},
   "outputs": [],
   "source": [
    "mars_weather_url = \"https://twitter.com/marswxreport?lang=en\"\n",
    "response = session.get(mars_weather_url).text\n",
    "weather_soup = bs(response, \"lxml\")\n",
    "mars_weather = weather_soup.find(\"div\",class_=\"js-tweet-text-container\").text"
   ]
  },
  {
   "cell_type": "markdown",
   "metadata": {},
   "source": [
    "## **Getting Mars Facts Information for DataFrame and HTML Table**"
   ]
  },
  {
   "cell_type": "code",
   "execution_count": 6,
   "metadata": {},
   "outputs": [],
   "source": [
    "mars_facts_url =\"https://space-facts.com/mars/\"\n",
    "mars_facts_tables = pd.read_html(mars_facts_url)\n",
    "mars_facts_df = mars_facts_tables[0]\n",
    "mars_facts_df.columns = [\"Element\", \"Data\"]\n",
    "html_df = mars_facts_df\n",
    "mars_fact_html = html_df.to_html(justify=\"left\", border=1).replace(\"\\n      <th></th>\\n      <th></th>\\n    </tr>\\n    <tr>\",\"\")"
   ]
  },
  {
   "cell_type": "markdown",
   "metadata": {},
   "source": [
    "##### ***For additional facts, not using it for this exercise***"
   ]
  },
  {
   "cell_type": "raw",
   "metadata": {},
   "source": [
    "# More Facts not needed\n",
    "response = requests.get(mars_facts_url).text\n",
    "facts_soup = bs(response,\"lxml\")\n",
    "about_mars = facts_soup.find_all(\"div\", {\"id\":\"facts\"})\n",
    "more_facts =[]\n",
    "additional_facts = about_mars[0].find_all(\"li\")\n",
    "\n",
    "for item in additional_facts:\n",
    "    more_facts.append(item.text)"
   ]
  },
  {
   "cell_type": "markdown",
   "metadata": {},
   "source": [
    "## **Mars Hemisphere Data**"
   ]
  },
  {
   "cell_type": "code",
   "execution_count": 7,
   "metadata": {},
   "outputs": [],
   "source": [
    "hemisphere_url = \"https://astrogeology.usgs.gov/search/results?q=hemisphere+enhanced&k1=target&v1=Mars\"\n",
    "hemisphere_url = \"https://astrogeology.usgs.gov/search/results?q=hemisphere+enhanced&k1=target&v1=Mars\"\n",
    "hemisphere_url_prefix =\"https://astrogeology.usgs.gov\"\n",
    "\n",
    "hemisphere_links = []\n",
    "hemisphere_image_url = []\n",
    "hemisphere_titles = []"
   ]
  },
  {
   "cell_type": "code",
   "execution_count": 8,
   "metadata": {},
   "outputs": [],
   "source": [
    "response = session.get(hemisphere_url).text\n",
    "hemisphere_soup = bs(response,\"lxml\")\n",
    "hemisphere_div = hemisphere_soup.find_all(\"div\", class_=\"item\")"
   ]
  },
  {
   "cell_type": "code",
   "execution_count": 9,
   "metadata": {},
   "outputs": [],
   "source": [
    "for item in hemisphere_div:\n",
    "    hemisphere_links.append(hemisphere_url_prefix+str(item.find(\"a\")[\"href\"]))\n",
    "    hemisphere_titles.append((item.h3.text).replace(\" Enhanced\",\"\")) "
   ]
  },
  {
   "cell_type": "code",
   "execution_count": 10,
   "metadata": {},
   "outputs": [],
   "source": [
    "for x in range(len(hemisphere_links)):\n",
    "    browser.visit(hemisphere_links[x])\n",
    "    response = requests.get(hemisphere_links[x]).text\n",
    "    hemi_soup = bs(response,\"lxml\")\n",
    "    search = hemi_soup.find(\"a\",text=\"Original\")\n",
    "    hemisphere_image_url.append(search[\"href\"])\n",
    "    time.sleep(2)"
   ]
  },
  {
   "cell_type": "markdown",
   "metadata": {},
   "source": [
    "## **Closing Browser Session**|"
   ]
  },
  {
   "cell_type": "code",
   "execution_count": 11,
   "metadata": {},
   "outputs": [
    {
     "name": "stdout",
     "output_type": "stream",
     "text": [
      "All driver browsers have been closed successfully\n"
     ]
    }
   ],
   "source": [
    "browser.quit()\n",
    "try:\n",
    "    browser.windows()\n",
    "except:\n",
    "    print(\"All driver browsers have been closed successfully\")"
   ]
  },
  {
   "cell_type": "markdown",
   "metadata": {},
   "source": [
    "-----"
   ]
  },
  {
   "cell_type": "markdown",
   "metadata": {},
   "source": [
    "#  "
   ]
  },
  {
   "cell_type": "markdown",
   "metadata": {},
   "source": [
    "# **Step 2 - Mongo DB Creation **\n",
    "---"
   ]
  },
  {
   "cell_type": "markdown",
   "metadata": {},
   "source": [
    "#### Creating \"***mars***\" database in Mongo DB"
   ]
  },
  {
   "cell_type": "code",
   "execution_count": 12,
   "metadata": {},
   "outputs": [],
   "source": [
    "#start Mongo in terminal\n",
    "mongod = \"mongod\"\n",
    "mongo = \"mongo\"\n",
    "\n",
    "os.system(mongod)\n",
    "os.system(mongo)\n",
    "\n",
    "conn = \"mongodb://localhost:27017\"\n",
    "client = pymongo.MongoClient(conn)\n",
    "try:\n",
    "    db = client.mars\n",
    "except:\n",
    "    if \"mars\" in client.database_names():\n",
    "        client.drop_database(\"mars\")\n",
    "    else:\n",
    "        db = client.mars\n",
    "    "
   ]
  },
  {
   "cell_type": "markdown",
   "metadata": {},
   "source": [
    "#### Creating and populating \"***news***\" collection"
   ]
  },
  {
   "cell_type": "code",
   "execution_count": 13,
   "metadata": {},
   "outputs": [
    {
     "data": {
      "text/plain": [
       "<pymongo.results.InsertOneResult at 0x14d764726c8>"
      ]
     },
     "execution_count": 13,
     "metadata": {},
     "output_type": "execute_result"
    }
   ],
   "source": [
    "try:\n",
    "    db.create_collection(\"news\")\n",
    "except:\n",
    "    db.drop_collection(\"news\")\n",
    "    db.create_collection(\"news\")\n",
    "    \n",
    "collection = db.get_collection(\"news\")\n",
    "collection.insert_one({\"title\":news_title,\"description\":news_p})"
   ]
  },
  {
   "cell_type": "markdown",
   "metadata": {},
   "source": [
    "#### Creating and populating \"***image***\" collection"
   ]
  },
  {
   "cell_type": "code",
   "execution_count": 14,
   "metadata": {},
   "outputs": [
    {
     "data": {
      "text/plain": [
       "<pymongo.results.InsertOneResult at 0x14d75fb6948>"
      ]
     },
     "execution_count": 14,
     "metadata": {},
     "output_type": "execute_result"
    }
   ],
   "source": [
    "try:\n",
    "    db.create_collection(\"image\")\n",
    "except:\n",
    "    db.drop_collection(\"image\")\n",
    "    db.create_collection(\"image\")\n",
    "    \n",
    "    \n",
    "collection = db.get_collection(\"image\")\n",
    "collection.insert_one({\"Featured_Image\": featured_image_url})"
   ]
  },
  {
   "cell_type": "markdown",
   "metadata": {},
   "source": [
    "#### Creating and populating \"***weather***\" collection"
   ]
  },
  {
   "cell_type": "code",
   "execution_count": 15,
   "metadata": {},
   "outputs": [
    {
     "data": {
      "text/plain": [
       "<pymongo.results.InsertOneResult at 0x14d76237ac8>"
      ]
     },
     "execution_count": 15,
     "metadata": {},
     "output_type": "execute_result"
    }
   ],
   "source": [
    "try:\n",
    "    db.create_collection(\"weather\")\n",
    "except:\n",
    "    db.drop_collection(\"weather\")\n",
    "    db.create_collection(\"weather\")\n",
    "\n",
    "collection = db.get_collection(\"weather\")\n",
    "collection.insert_one({\"Mars_Weather\":mars_weather})"
   ]
  },
  {
   "cell_type": "markdown",
   "metadata": {},
   "source": [
    "#### Creating and populating \"***facts***\" collection"
   ]
  },
  {
   "cell_type": "code",
   "execution_count": 16,
   "metadata": {},
   "outputs": [],
   "source": [
    "try:\n",
    "    db.create_collection(\"facts\")\n",
    "except:\n",
    "    db.drop_collection(\"facts\")\n",
    "    db.create_collection(\"facts\")\n",
    "    \n",
    "collection = db.get_collection(\"facts\")\n",
    "for x in range(0,len(mars_facts_df)):\n",
    "    fact_name = mars_facts_df.Element[x].replace(\":\",\"\")\n",
    "    fact = mars_facts_df.Data[x]\n",
    "    fact_data = {fact_name: fact,}\n",
    "    collection.insert_one(fact_data)"
   ]
  },
  {
   "cell_type": "markdown",
   "metadata": {},
   "source": [
    "#### Creating and populating \"***hemispheres***\" collection"
   ]
  },
  {
   "cell_type": "code",
   "execution_count": 17,
   "metadata": {},
   "outputs": [],
   "source": [
    "try:\n",
    "    db.create_collection(\"hemispheres\")\n",
    "except:\n",
    "    db.drop_collection(\"hemispheres\")\n",
    "    db.create_collection(\"hemispheres\")\n",
    "collection = db.get_collection(\"hemispheres\")\n",
    "for x in range(len(hemisphere_image_url)): \n",
    "    c = x-1 \n",
    "    collection.insert_one({\"title\": hemisphere_titles[c], \"img_url\": hemisphere_image_url[c]})"
   ]
  }
 ],
 "metadata": {
  "kernelspec": {
   "display_name": "Python [conda env:Anaconda3]",
   "language": "python",
   "name": "conda-env-Anaconda3-py"
  },
  "language_info": {
   "codemirror_mode": {
    "name": "ipython",
    "version": 3
   },
   "file_extension": ".py",
   "mimetype": "text/x-python",
   "name": "python",
   "nbconvert_exporter": "python",
   "pygments_lexer": "ipython3",
   "version": "3.6.5"
  }
 },
 "nbformat": 4,
 "nbformat_minor": 2
}
